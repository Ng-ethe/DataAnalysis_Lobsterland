{
  "nbformat": 4,
  "nbformat_minor": 0,
  "metadata": {
    "colab": {
      "name": "lobsterland.ipynb",
      "provenance": [],
      "toc_visible": true
    },
    "kernelspec": {
      "name": "python3",
      "display_name": "Python 3"
    },
    "language_info": {
      "name": "python"
    }
  },
  "cells": [
    {
      "cell_type": "markdown",
      "metadata": {
        "id": "u2OyPCMuRNo-"
      },
      "source": [
        "# EDA"
      ]
    },
    {
      "cell_type": "code",
      "metadata": {
        "id": "XUE7cNMzCrzc"
      },
      "source": [
        "# import libraries\n",
        "import pandas as pd\n",
        "import numpy as np"
      ],
      "execution_count": 235,
      "outputs": []
    },
    {
      "cell_type": "code",
      "metadata": {
        "colab": {
          "base_uri": "https://localhost:8080/",
          "height": 309
        },
        "id": "yu5IfBUtEWgh",
        "outputId": "e0f06ff6-b632-4c02-b1af-1d6e3dd3f111"
      },
      "source": [
        "# load data\n",
        "lobster_land = pd.read_csv('/content/drive/MyDrive/TB_classification_project/1632604477203_lobsterland_2021.csv')\n",
        "# preview the first few rows\n",
        "lobster_land.head()"
      ],
      "execution_count": 236,
      "outputs": [
        {
          "output_type": "execute_result",
          "data": {
            "text/html": [
              "<div>\n",
              "<style scoped>\n",
              "    .dataframe tbody tr th:only-of-type {\n",
              "        vertical-align: middle;\n",
              "    }\n",
              "\n",
              "    .dataframe tbody tr th {\n",
              "        vertical-align: top;\n",
              "    }\n",
              "\n",
              "    .dataframe thead th {\n",
              "        text-align: right;\n",
              "    }\n",
              "</style>\n",
              "<table border=\"1\" class=\"dataframe\">\n",
              "  <thead>\n",
              "    <tr style=\"text-align: right;\">\n",
              "      <th></th>\n",
              "      <th>Date</th>\n",
              "      <th>Day.of.Week</th>\n",
              "      <th>Max</th>\n",
              "      <th>Average</th>\n",
              "      <th>Min</th>\n",
              "      <th>Precip</th>\n",
              "      <th>DayPass</th>\n",
              "      <th>UniqueVisitor</th>\n",
              "      <th>AvgDuration</th>\n",
              "      <th>ParkingRev</th>\n",
              "      <th>SnackShackRev</th>\n",
              "      <th>LobsteramaRev</th>\n",
              "      <th>GoldZoneRev</th>\n",
              "      <th>MerchRev</th>\n",
              "      <th>StaffHours</th>\n",
              "      <th>Sign_Ups2022</th>\n",
              "      <th>Fireworks</th>\n",
              "      <th>Spec_Event</th>\n",
              "      <th>DailyGrossRev</th>\n",
              "      <th>day_type</th>\n",
              "    </tr>\n",
              "  </thead>\n",
              "  <tbody>\n",
              "    <tr>\n",
              "      <th>0</th>\n",
              "      <td>2021/5/31</td>\n",
              "      <td>Monday</td>\n",
              "      <td>59</td>\n",
              "      <td>53.5</td>\n",
              "      <td>47</td>\n",
              "      <td>0.90</td>\n",
              "      <td>3261</td>\n",
              "      <td>4024</td>\n",
              "      <td>328</td>\n",
              "      <td>15212.86</td>\n",
              "      <td>18532.06</td>\n",
              "      <td>29971.82</td>\n",
              "      <td>26283.73</td>\n",
              "      <td>34775.54</td>\n",
              "      <td>922.846054</td>\n",
              "      <td>32</td>\n",
              "      <td>1</td>\n",
              "      <td>1</td>\n",
              "      <td>138250.61</td>\n",
              "      <td>Partly Sunny</td>\n",
              "    </tr>\n",
              "    <tr>\n",
              "      <th>1</th>\n",
              "      <td>2021/6/1</td>\n",
              "      <td>Tuesday</td>\n",
              "      <td>77</td>\n",
              "      <td>63.2</td>\n",
              "      <td>47</td>\n",
              "      <td>0.02</td>\n",
              "      <td>2263</td>\n",
              "      <td>2646</td>\n",
              "      <td>376</td>\n",
              "      <td>9323.06</td>\n",
              "      <td>11359.90</td>\n",
              "      <td>18367.60</td>\n",
              "      <td>16113.23</td>\n",
              "      <td>21315.35</td>\n",
              "      <td>565.828102</td>\n",
              "      <td>19</td>\n",
              "      <td>0</td>\n",
              "      <td>1</td>\n",
              "      <td>103408.71</td>\n",
              "      <td>Very Sunny</td>\n",
              "    </tr>\n",
              "    <tr>\n",
              "      <th>2</th>\n",
              "      <td>2021/6/2</td>\n",
              "      <td>Wednesday</td>\n",
              "      <td>77</td>\n",
              "      <td>64.7</td>\n",
              "      <td>49</td>\n",
              "      <td>0.00</td>\n",
              "      <td>2731</td>\n",
              "      <td>2936</td>\n",
              "      <td>318</td>\n",
              "      <td>11252.19</td>\n",
              "      <td>13711.52</td>\n",
              "      <td>22178.14</td>\n",
              "      <td>19444.90</td>\n",
              "      <td>25726.56</td>\n",
              "      <td>682.831533</td>\n",
              "      <td>22</td>\n",
              "      <td>0</td>\n",
              "      <td>4</td>\n",
              "      <td>102285.09</td>\n",
              "      <td>Very Rainy</td>\n",
              "    </tr>\n",
              "    <tr>\n",
              "      <th>3</th>\n",
              "      <td>2021/6/3</td>\n",
              "      <td>Thursday</td>\n",
              "      <td>68</td>\n",
              "      <td>62.7</td>\n",
              "      <td>58</td>\n",
              "      <td>NaN</td>\n",
              "      <td>2879</td>\n",
              "      <td>3196</td>\n",
              "      <td>485</td>\n",
              "      <td>11861.30</td>\n",
              "      <td>14452.55</td>\n",
              "      <td>23377.00</td>\n",
              "      <td>20499.36</td>\n",
              "      <td>27120.90</td>\n",
              "      <td>719.770323</td>\n",
              "      <td>25</td>\n",
              "      <td>0</td>\n",
              "      <td>4</td>\n",
              "      <td>107836.25</td>\n",
              "      <td>Partly Cloudy</td>\n",
              "    </tr>\n",
              "    <tr>\n",
              "      <th>4</th>\n",
              "      <td>2021/6/4</td>\n",
              "      <td>Monday</td>\n",
              "      <td>93</td>\n",
              "      <td>80.5</td>\n",
              "      <td>64</td>\n",
              "      <td>0.00</td>\n",
              "      <td>2118</td>\n",
              "      <td>2334</td>\n",
              "      <td>240</td>\n",
              "      <td>8727.01</td>\n",
              "      <td>10630.80</td>\n",
              "      <td>17194.67</td>\n",
              "      <td>15080.27</td>\n",
              "      <td>19952.06</td>\n",
              "      <td>529.510078</td>\n",
              "      <td>18</td>\n",
              "      <td>0</td>\n",
              "      <td>3</td>\n",
              "      <td>79321.23</td>\n",
              "      <td>Very Sunny</td>\n",
              "    </tr>\n",
              "  </tbody>\n",
              "</table>\n",
              "</div>"
            ],
            "text/plain": [
              "        Date Day.of.Week  Max  ...  Spec_Event  DailyGrossRev       day_type\n",
              "0  2021/5/31      Monday   59  ...           1      138250.61   Partly Sunny\n",
              "1   2021/6/1     Tuesday   77  ...           1      103408.71     Very Sunny\n",
              "2   2021/6/2   Wednesday   77  ...           4      102285.09     Very Rainy\n",
              "3   2021/6/3    Thursday   68  ...           4      107836.25  Partly Cloudy\n",
              "4   2021/6/4      Monday   93  ...           3       79321.23     Very Sunny\n",
              "\n",
              "[5 rows x 20 columns]"
            ]
          },
          "metadata": {},
          "execution_count": 236
        }
      ]
    },
    {
      "cell_type": "code",
      "metadata": {
        "colab": {
          "base_uri": "https://localhost:8080/"
        },
        "id": "fK9xl7YetY9E",
        "outputId": "82e4b9c1-2177-4df7-c1f1-48d0e2eb6ff9"
      },
      "source": [
        "lobster_land.info()"
      ],
      "execution_count": 237,
      "outputs": [
        {
          "output_type": "stream",
          "name": "stdout",
          "text": [
            "<class 'pandas.core.frame.DataFrame'>\n",
            "RangeIndex: 99 entries, 0 to 98\n",
            "Data columns (total 20 columns):\n",
            " #   Column         Non-Null Count  Dtype  \n",
            "---  ------         --------------  -----  \n",
            " 0   Date           99 non-null     object \n",
            " 1   Day.of.Week    99 non-null     object \n",
            " 2   Max            99 non-null     int64  \n",
            " 3   Average        99 non-null     float64\n",
            " 4   Min            99 non-null     int64  \n",
            " 5   Precip         93 non-null     float64\n",
            " 6   DayPass        99 non-null     int64  \n",
            " 7   UniqueVisitor  99 non-null     int64  \n",
            " 8   AvgDuration    99 non-null     int64  \n",
            " 9   ParkingRev     99 non-null     float64\n",
            " 10  SnackShackRev  99 non-null     float64\n",
            " 11  LobsteramaRev  99 non-null     float64\n",
            " 12  GoldZoneRev    99 non-null     float64\n",
            " 13  MerchRev       99 non-null     float64\n",
            " 14  StaffHours     99 non-null     float64\n",
            " 15  Sign_Ups2022   99 non-null     int64  \n",
            " 16  Fireworks      99 non-null     int64  \n",
            " 17  Spec_Event     99 non-null     int64  \n",
            " 18  DailyGrossRev  99 non-null     float64\n",
            " 19  day_type       99 non-null     object \n",
            "dtypes: float64(9), int64(8), object(3)\n",
            "memory usage: 15.6+ KB\n"
          ]
        }
      ]
    },
    {
      "cell_type": "markdown",
      "metadata": {
        "id": "Uy-phmNSeWQC"
      },
      "source": [
        "The head() function displays 5 rows by default."
      ]
    },
    {
      "cell_type": "code",
      "metadata": {
        "colab": {
          "base_uri": "https://localhost:8080/"
        },
        "id": "M8ADuMElFUVj",
        "outputId": "343ac691-d0d1-4a6a-a4c5-9cbfbcd146fe"
      },
      "source": [
        "# get the shape of the dataset\n",
        "lobster_land.shape"
      ],
      "execution_count": 238,
      "outputs": [
        {
          "output_type": "execute_result",
          "data": {
            "text/plain": [
              "(99, 20)"
            ]
          },
          "metadata": {},
          "execution_count": 238
        }
      ]
    },
    {
      "cell_type": "markdown",
      "metadata": {
        "id": "aszk7fTuFjm8"
      },
      "source": [
        "The dataset has 99 rows and 20 columns"
      ]
    },
    {
      "cell_type": "markdown",
      "metadata": {
        "id": "HKfcPmnmel9g"
      },
      "source": [
        "The Spec_Event variable contains numerical values. This could be a categorical or numerical type."
      ]
    },
    {
      "cell_type": "code",
      "metadata": {
        "colab": {
          "base_uri": "https://localhost:8080/"
        },
        "id": "pkEUvppBFcO4",
        "outputId": "ed51facf-7e04-4212-f1fe-4dd0284033f4"
      },
      "source": [
        "# get a description of the Spec_Event variable\n",
        "lobster_land.Spec_Event.describe()"
      ],
      "execution_count": 239,
      "outputs": [
        {
          "output_type": "execute_result",
          "data": {
            "text/plain": [
              "count    99.000000\n",
              "mean      3.575758\n",
              "std       1.761788\n",
              "min       1.000000\n",
              "25%       2.000000\n",
              "50%       4.000000\n",
              "75%       5.000000\n",
              "max       6.000000\n",
              "Name: Spec_Event, dtype: float64"
            ]
          },
          "metadata": {},
          "execution_count": 239
        }
      ]
    },
    {
      "cell_type": "markdown",
      "metadata": {
        "id": "ku5x_VwefPPr"
      },
      "source": [
        "The variable, Spec_Event has 99 rows (values) stored in it. Of this, there are only 6 unique values which could mean the data is categorical. The value 5, has the highest frequency at 29."
      ]
    },
    {
      "cell_type": "code",
      "metadata": {
        "colab": {
          "base_uri": "https://localhost:8080/"
        },
        "id": "MET-aIoTGkAe",
        "outputId": "6e0be0b4-62ab-4bbd-ed3d-01e415975cd1"
      },
      "source": [
        "# converting the special events variable from a numerical to categorical type\n",
        "lobster_land[\"Spec_Event\"] = lobster_land[\"Spec_Event\"].astype('category')\n",
        "lobster_land.Spec_Event.value_counts() "
      ],
      "execution_count": 240,
      "outputs": [
        {
          "output_type": "execute_result",
          "data": {
            "text/plain": [
              "5    29\n",
              "1    18\n",
              "3    15\n",
              "2    15\n",
              "6    14\n",
              "4     8\n",
              "Name: Spec_Event, dtype: int64"
            ]
          },
          "metadata": {},
          "execution_count": 240
        }
      ]
    },
    {
      "cell_type": "markdown",
      "metadata": {
        "id": "xaD_5WKGkj3t"
      },
      "source": [
        "The function value_counts() gives us the summary of the frequency of occurrence of each of the categories while describe() just tells us the value with the highest frequency. The valu_counts() methods is better for the getting the frequency distribution across all the categories and the order from the highest to lowest value."
      ]
    },
    {
      "cell_type": "code",
      "metadata": {
        "colab": {
          "base_uri": "https://localhost:8080/"
        },
        "id": "zpHcfhYaIX4g",
        "outputId": "26fc1d68-0df5-4d13-cdd4-c0e39f0a836e"
      },
      "source": [
        "# check for null values in the dataset\n",
        "lobster_land.isnull().sum()"
      ],
      "execution_count": 241,
      "outputs": [
        {
          "output_type": "execute_result",
          "data": {
            "text/plain": [
              "Date             0\n",
              "Day.of.Week      0\n",
              "Max              0\n",
              "Average          0\n",
              "Min              0\n",
              "Precip           6\n",
              "DayPass          0\n",
              "UniqueVisitor    0\n",
              "AvgDuration      0\n",
              "ParkingRev       0\n",
              "SnackShackRev    0\n",
              "LobsteramaRev    0\n",
              "GoldZoneRev      0\n",
              "MerchRev         0\n",
              "StaffHours       0\n",
              "Sign_Ups2022     0\n",
              "Fireworks        0\n",
              "Spec_Event       0\n",
              "DailyGrossRev    0\n",
              "day_type         0\n",
              "dtype: int64"
            ]
          },
          "metadata": {},
          "execution_count": 241
        }
      ]
    },
    {
      "cell_type": "markdown",
      "metadata": {
        "id": "zKZfbrjQmGth"
      },
      "source": [
        "The values indicate the number of null values present in each of the columns. Only, the precipitation variable has null values. It has six of them."
      ]
    },
    {
      "cell_type": "code",
      "metadata": {
        "colab": {
          "base_uri": "https://localhost:8080/"
        },
        "id": "_Ud5q68bIjCK",
        "outputId": "abbad54b-1333-41d6-cc93-d09171140825"
      },
      "source": [
        "# replace missing values\n",
        "lobster_land['Precip'].fillna(value = 0.00,inplace = True)\n",
        "# confirm the missing values have been replaced\n",
        "lobster_land['Precip'].isnull().any()"
      ],
      "execution_count": 242,
      "outputs": [
        {
          "output_type": "execute_result",
          "data": {
            "text/plain": [
              "False"
            ]
          },
          "metadata": {},
          "execution_count": 242
        }
      ]
    },
    {
      "cell_type": "markdown",
      "metadata": {
        "id": "oic5ATn9qwtK"
      },
      "source": [
        "there are many possible approaches to take when we have missing data in our dataset. These include removing all rows with missing values, replacing rows\n",
        "with missing values in a particular column, or replacing missing values with a central value like a column mean or median. Replacing with ‘0’ sometimes makes sense like in our case. The column 'Precip'is the only column with missing values and only 6 of them. This would not have a severe impact on any of the central tendencies of the data."
      ]
    },
    {
      "cell_type": "code",
      "metadata": {
        "id": "820lIKVjPQ-2",
        "colab": {
          "base_uri": "https://localhost:8080/",
          "height": 204
        },
        "outputId": "fc101d9c-6855-4464-ee57-9b573fb432aa"
      },
      "source": [
        "# Check for values of temeperature below 51\n",
        "lobster_land[['Max', 'Average', 'Min']][lobster_land[['Max', 'Average', 'Min']] <51].head()\n"
      ],
      "execution_count": 243,
      "outputs": [
        {
          "output_type": "execute_result",
          "data": {
            "text/html": [
              "<div>\n",
              "<style scoped>\n",
              "    .dataframe tbody tr th:only-of-type {\n",
              "        vertical-align: middle;\n",
              "    }\n",
              "\n",
              "    .dataframe tbody tr th {\n",
              "        vertical-align: top;\n",
              "    }\n",
              "\n",
              "    .dataframe thead th {\n",
              "        text-align: right;\n",
              "    }\n",
              "</style>\n",
              "<table border=\"1\" class=\"dataframe\">\n",
              "  <thead>\n",
              "    <tr style=\"text-align: right;\">\n",
              "      <th></th>\n",
              "      <th>Max</th>\n",
              "      <th>Average</th>\n",
              "      <th>Min</th>\n",
              "    </tr>\n",
              "  </thead>\n",
              "  <tbody>\n",
              "    <tr>\n",
              "      <th>0</th>\n",
              "      <td>NaN</td>\n",
              "      <td>NaN</td>\n",
              "      <td>47.0</td>\n",
              "    </tr>\n",
              "    <tr>\n",
              "      <th>1</th>\n",
              "      <td>NaN</td>\n",
              "      <td>NaN</td>\n",
              "      <td>47.0</td>\n",
              "    </tr>\n",
              "    <tr>\n",
              "      <th>2</th>\n",
              "      <td>NaN</td>\n",
              "      <td>NaN</td>\n",
              "      <td>49.0</td>\n",
              "    </tr>\n",
              "    <tr>\n",
              "      <th>3</th>\n",
              "      <td>NaN</td>\n",
              "      <td>NaN</td>\n",
              "      <td>NaN</td>\n",
              "    </tr>\n",
              "    <tr>\n",
              "      <th>4</th>\n",
              "      <td>NaN</td>\n",
              "      <td>NaN</td>\n",
              "      <td>NaN</td>\n",
              "    </tr>\n",
              "  </tbody>\n",
              "</table>\n",
              "</div>"
            ],
            "text/plain": [
              "   Max  Average   Min\n",
              "0  NaN      NaN  47.0\n",
              "1  NaN      NaN  47.0\n",
              "2  NaN      NaN  49.0\n",
              "3  NaN      NaN   NaN\n",
              "4  NaN      NaN   NaN"
            ]
          },
          "metadata": {},
          "execution_count": 243
        }
      ]
    },
    {
      "cell_type": "code",
      "metadata": {
        "id": "s7oM3HcxnJNX"
      },
      "source": [
        "# get a list of all the values for the 3 columns\n",
        "x_min = lobster_land[ 'Min'][lobster_land['Min'] <51].values.tolist()\n",
        "x_max = lobster_land[ 'Max'][lobster_land['Max'] <51].values.tolist()\n",
        "x_avg = lobster_land[ 'Average'][lobster_land['Average'] <51].values.tolist()"
      ],
      "execution_count": 244,
      "outputs": []
    },
    {
      "cell_type": "code",
      "metadata": {
        "id": "cC4wi3UuWnJT",
        "colab": {
          "base_uri": "https://localhost:8080/",
          "height": 204
        },
        "outputId": "ee4887cb-e005-44c7-fc0d-4d652433ab5c"
      },
      "source": [
        "# replace the values with 51\n",
        "lobster_land['Min'] =lobster_land['Min'].replace(x_min, 51)\n",
        "lobster_land['Max'] =lobster_land['Max'].replace(x_max, 51)\n",
        "lobster_land['Average'] =lobster_land['Average'].replace(x_avg, 51)\n",
        "lobster_land[['Max', 'Average', 'Min']][lobster_land[['Max', 'Average', 'Min']] <51].head()"
      ],
      "execution_count": 245,
      "outputs": [
        {
          "output_type": "execute_result",
          "data": {
            "text/html": [
              "<div>\n",
              "<style scoped>\n",
              "    .dataframe tbody tr th:only-of-type {\n",
              "        vertical-align: middle;\n",
              "    }\n",
              "\n",
              "    .dataframe tbody tr th {\n",
              "        vertical-align: top;\n",
              "    }\n",
              "\n",
              "    .dataframe thead th {\n",
              "        text-align: right;\n",
              "    }\n",
              "</style>\n",
              "<table border=\"1\" class=\"dataframe\">\n",
              "  <thead>\n",
              "    <tr style=\"text-align: right;\">\n",
              "      <th></th>\n",
              "      <th>Max</th>\n",
              "      <th>Average</th>\n",
              "      <th>Min</th>\n",
              "    </tr>\n",
              "  </thead>\n",
              "  <tbody>\n",
              "    <tr>\n",
              "      <th>0</th>\n",
              "      <td>NaN</td>\n",
              "      <td>NaN</td>\n",
              "      <td>NaN</td>\n",
              "    </tr>\n",
              "    <tr>\n",
              "      <th>1</th>\n",
              "      <td>NaN</td>\n",
              "      <td>NaN</td>\n",
              "      <td>NaN</td>\n",
              "    </tr>\n",
              "    <tr>\n",
              "      <th>2</th>\n",
              "      <td>NaN</td>\n",
              "      <td>NaN</td>\n",
              "      <td>NaN</td>\n",
              "    </tr>\n",
              "    <tr>\n",
              "      <th>3</th>\n",
              "      <td>NaN</td>\n",
              "      <td>NaN</td>\n",
              "      <td>NaN</td>\n",
              "    </tr>\n",
              "    <tr>\n",
              "      <th>4</th>\n",
              "      <td>NaN</td>\n",
              "      <td>NaN</td>\n",
              "      <td>NaN</td>\n",
              "    </tr>\n",
              "  </tbody>\n",
              "</table>\n",
              "</div>"
            ],
            "text/plain": [
              "   Max  Average  Min\n",
              "0  NaN      NaN  NaN\n",
              "1  NaN      NaN  NaN\n",
              "2  NaN      NaN  NaN\n",
              "3  NaN      NaN  NaN\n",
              "4  NaN      NaN  NaN"
            ]
          },
          "metadata": {},
          "execution_count": 245
        }
      ]
    },
    {
      "cell_type": "code",
      "metadata": {
        "colab": {
          "base_uri": "https://localhost:8080/",
          "height": 516
        },
        "id": "sFnNsSe3auRq",
        "outputId": "211c1ce0-de3b-4679-ae2f-fef1852ac60f"
      },
      "source": [
        "# The Labor Day Effect\n",
        "print (lobster_land.mean())\n",
        "lobster_land[-4:].head()"
      ],
      "execution_count": 246,
      "outputs": [
        {
          "output_type": "stream",
          "name": "stdout",
          "text": [
            "Max                  76.797980\n",
            "Average              68.191717\n",
            "Min                  60.515152\n",
            "Precip                0.156465\n",
            "DayPass            3241.111111\n",
            "UniqueVisitor      3757.696970\n",
            "AvgDuration         337.141414\n",
            "ParkingRev        13344.433939\n",
            "SnackShackRev     16233.011010\n",
            "LobsteramaRev     28292.904646\n",
            "GoldZoneRev       26749.907273\n",
            "MerchRev          32051.397475\n",
            "StaffHours          808.894626\n",
            "Sign_Ups2022         44.636364\n",
            "Fireworks             0.252525\n",
            "DailyGrossRev    120135.184444\n",
            "dtype: float64\n"
          ]
        },
        {
          "output_type": "execute_result",
          "data": {
            "text/html": [
              "<div>\n",
              "<style scoped>\n",
              "    .dataframe tbody tr th:only-of-type {\n",
              "        vertical-align: middle;\n",
              "    }\n",
              "\n",
              "    .dataframe tbody tr th {\n",
              "        vertical-align: top;\n",
              "    }\n",
              "\n",
              "    .dataframe thead th {\n",
              "        text-align: right;\n",
              "    }\n",
              "</style>\n",
              "<table border=\"1\" class=\"dataframe\">\n",
              "  <thead>\n",
              "    <tr style=\"text-align: right;\">\n",
              "      <th></th>\n",
              "      <th>Date</th>\n",
              "      <th>Day.of.Week</th>\n",
              "      <th>Max</th>\n",
              "      <th>Average</th>\n",
              "      <th>Min</th>\n",
              "      <th>Precip</th>\n",
              "      <th>DayPass</th>\n",
              "      <th>UniqueVisitor</th>\n",
              "      <th>AvgDuration</th>\n",
              "      <th>ParkingRev</th>\n",
              "      <th>SnackShackRev</th>\n",
              "      <th>LobsteramaRev</th>\n",
              "      <th>GoldZoneRev</th>\n",
              "      <th>MerchRev</th>\n",
              "      <th>StaffHours</th>\n",
              "      <th>Sign_Ups2022</th>\n",
              "      <th>Fireworks</th>\n",
              "      <th>Spec_Event</th>\n",
              "      <th>DailyGrossRev</th>\n",
              "      <th>day_type</th>\n",
              "    </tr>\n",
              "  </thead>\n",
              "  <tbody>\n",
              "    <tr>\n",
              "      <th>95</th>\n",
              "      <td>2021/9/3</td>\n",
              "      <td>Friday</td>\n",
              "      <td>72</td>\n",
              "      <td>63.40</td>\n",
              "      <td>54</td>\n",
              "      <td>0.00</td>\n",
              "      <td>4494</td>\n",
              "      <td>5108</td>\n",
              "      <td>289</td>\n",
              "      <td>18514.43</td>\n",
              "      <td>22563.10</td>\n",
              "      <td>40984.81</td>\n",
              "      <td>40982.92</td>\n",
              "      <td>51518.10</td>\n",
              "      <td>1123.555994</td>\n",
              "      <td>93</td>\n",
              "      <td>0</td>\n",
              "      <td>1</td>\n",
              "      <td>165643.57</td>\n",
              "      <td>Overcast</td>\n",
              "    </tr>\n",
              "    <tr>\n",
              "      <th>96</th>\n",
              "      <td>2021/9/4</td>\n",
              "      <td>Saturday</td>\n",
              "      <td>75</td>\n",
              "      <td>64.50</td>\n",
              "      <td>55</td>\n",
              "      <td>0.00</td>\n",
              "      <td>4200</td>\n",
              "      <td>5066</td>\n",
              "      <td>375</td>\n",
              "      <td>17304.08</td>\n",
              "      <td>21087.59</td>\n",
              "      <td>38308.28</td>\n",
              "      <td>38304.65</td>\n",
              "      <td>48504.75</td>\n",
              "      <td>1050.101320</td>\n",
              "      <td>77</td>\n",
              "      <td>1</td>\n",
              "      <td>2</td>\n",
              "      <td>154805.40</td>\n",
              "      <td>Partly Sunny</td>\n",
              "    </tr>\n",
              "    <tr>\n",
              "      <th>97</th>\n",
              "      <td>2021/9/5</td>\n",
              "      <td>Sunday</td>\n",
              "      <td>68</td>\n",
              "      <td>60.70</td>\n",
              "      <td>51</td>\n",
              "      <td>0.00</td>\n",
              "      <td>4424</td>\n",
              "      <td>5482</td>\n",
              "      <td>412</td>\n",
              "      <td>18226.30</td>\n",
              "      <td>22211.07</td>\n",
              "      <td>40346.49</td>\n",
              "      <td>40348.37</td>\n",
              "      <td>52718.03</td>\n",
              "      <td>1106.061363</td>\n",
              "      <td>83</td>\n",
              "      <td>0</td>\n",
              "      <td>5</td>\n",
              "      <td>163065.68</td>\n",
              "      <td>Cloudy</td>\n",
              "    </tr>\n",
              "    <tr>\n",
              "      <th>98</th>\n",
              "      <td>2021/9/6</td>\n",
              "      <td>Monday</td>\n",
              "      <td>76</td>\n",
              "      <td>66.58</td>\n",
              "      <td>60</td>\n",
              "      <td>0.19</td>\n",
              "      <td>5112</td>\n",
              "      <td>5570</td>\n",
              "      <td>471</td>\n",
              "      <td>18407.56</td>\n",
              "      <td>19829.31</td>\n",
              "      <td>55447.87</td>\n",
              "      <td>40739.78</td>\n",
              "      <td>49912.88</td>\n",
              "      <td>1033.587580</td>\n",
              "      <td>129</td>\n",
              "      <td>1</td>\n",
              "      <td>1</td>\n",
              "      <td>138250.61</td>\n",
              "      <td>Very Sunny</td>\n",
              "    </tr>\n",
              "  </tbody>\n",
              "</table>\n",
              "</div>"
            ],
            "text/plain": [
              "        Date Day.of.Week  Max  ...  Spec_Event  DailyGrossRev      day_type\n",
              "95  2021/9/3      Friday   72  ...           1      165643.57      Overcast\n",
              "96  2021/9/4    Saturday   75  ...           2      154805.40  Partly Sunny\n",
              "97  2021/9/5      Sunday   68  ...           5      163065.68        Cloudy\n",
              "98  2021/9/6      Monday   76  ...           1      138250.61    Very Sunny\n",
              "\n",
              "[4 rows x 20 columns]"
            ]
          },
          "metadata": {},
          "execution_count": 246
        }
      ]
    },
    {
      "cell_type": "code",
      "metadata": {
        "colab": {
          "base_uri": "https://localhost:8080/",
          "height": 193
        },
        "id": "PjC7n7tjscaY",
        "outputId": "fa0f9823-bcca-4c23-9cf6-9526508e5ce6"
      },
      "source": [
        "# get the percentage changes in the numerical variables\n",
        "labour_day_stats = ((lobster_land[-4:].select_dtypes(np.number) - lobster_land.mean())/ lobster_land[-4:]) * 100\n",
        "labour_day_stats.dropna(axis=1)"
      ],
      "execution_count": 247,
      "outputs": [
        {
          "output_type": "execute_result",
          "data": {
            "text/html": [
              "<div>\n",
              "<style scoped>\n",
              "    .dataframe tbody tr th:only-of-type {\n",
              "        vertical-align: middle;\n",
              "    }\n",
              "\n",
              "    .dataframe tbody tr th {\n",
              "        vertical-align: top;\n",
              "    }\n",
              "\n",
              "    .dataframe thead th {\n",
              "        text-align: right;\n",
              "    }\n",
              "</style>\n",
              "<table border=\"1\" class=\"dataframe\">\n",
              "  <thead>\n",
              "    <tr style=\"text-align: right;\">\n",
              "      <th></th>\n",
              "      <th>Average</th>\n",
              "      <th>AvgDuration</th>\n",
              "      <th>DailyGrossRev</th>\n",
              "      <th>DayPass</th>\n",
              "      <th>Fireworks</th>\n",
              "      <th>GoldZoneRev</th>\n",
              "      <th>LobsteramaRev</th>\n",
              "      <th>Max</th>\n",
              "      <th>MerchRev</th>\n",
              "      <th>Min</th>\n",
              "      <th>ParkingRev</th>\n",
              "      <th>Precip</th>\n",
              "      <th>Sign_Ups2022</th>\n",
              "      <th>SnackShackRev</th>\n",
              "      <th>StaffHours</th>\n",
              "      <th>UniqueVisitor</th>\n",
              "    </tr>\n",
              "  </thead>\n",
              "  <tbody>\n",
              "    <tr>\n",
              "      <th>95</th>\n",
              "      <td>-7.557914</td>\n",
              "      <td>-16.657929</td>\n",
              "      <td>27.473681</td>\n",
              "      <td>27.879148</td>\n",
              "      <td>-inf</td>\n",
              "      <td>34.729133</td>\n",
              "      <td>30.967340</td>\n",
              "      <td>-6.663861</td>\n",
              "      <td>37.786142</td>\n",
              "      <td>-12.065095</td>\n",
              "      <td>27.924144</td>\n",
              "      <td>-inf</td>\n",
              "      <td>52.003910</td>\n",
              "      <td>28.055050</td>\n",
              "      <td>28.005847</td>\n",
              "      <td>26.435063</td>\n",
              "    </tr>\n",
              "    <tr>\n",
              "      <th>96</th>\n",
              "      <td>-5.723593</td>\n",
              "      <td>10.095623</td>\n",
              "      <td>22.395999</td>\n",
              "      <td>22.830688</td>\n",
              "      <td>74.747475</td>\n",
              "      <td>30.165379</td>\n",
              "      <td>26.144153</td>\n",
              "      <td>-2.397306</td>\n",
              "      <td>33.921116</td>\n",
              "      <td>-10.027548</td>\n",
              "      <td>22.882731</td>\n",
              "      <td>-inf</td>\n",
              "      <td>42.030697</td>\n",
              "      <td>23.021023</td>\n",
              "      <td>22.969850</td>\n",
              "      <td>25.825168</td>\n",
              "    </tr>\n",
              "    <tr>\n",
              "      <th>97</th>\n",
              "      <td>-12.342203</td>\n",
              "      <td>18.169560</td>\n",
              "      <td>26.327119</td>\n",
              "      <td>26.737995</td>\n",
              "      <td>-inf</td>\n",
              "      <td>33.702632</td>\n",
              "      <td>29.875177</td>\n",
              "      <td>-12.938206</td>\n",
              "      <td>39.202209</td>\n",
              "      <td>-18.657160</td>\n",
              "      <td>26.784734</td>\n",
              "      <td>-inf</td>\n",
              "      <td>46.221249</td>\n",
              "      <td>26.914773</td>\n",
              "      <td>26.867111</td>\n",
              "      <td>31.453904</td>\n",
              "    </tr>\n",
              "    <tr>\n",
              "      <th>98</th>\n",
              "      <td>-2.420723</td>\n",
              "      <td>28.420082</td>\n",
              "      <td>13.103324</td>\n",
              "      <td>36.597983</td>\n",
              "      <td>74.747475</td>\n",
              "      <td>34.339588</td>\n",
              "      <td>48.973866</td>\n",
              "      <td>-1.049973</td>\n",
              "      <td>35.785317</td>\n",
              "      <td>-0.858586</td>\n",
              "      <td>27.505688</td>\n",
              "      <td>17.650186</td>\n",
              "      <td>65.398168</td>\n",
              "      <td>18.136279</td>\n",
              "      <td>21.739131</td>\n",
              "      <td>32.536859</td>\n",
              "    </tr>\n",
              "  </tbody>\n",
              "</table>\n",
              "</div>"
            ],
            "text/plain": [
              "      Average  AvgDuration  ...  StaffHours  UniqueVisitor\n",
              "95  -7.557914   -16.657929  ...   28.005847      26.435063\n",
              "96  -5.723593    10.095623  ...   22.969850      25.825168\n",
              "97 -12.342203    18.169560  ...   26.867111      31.453904\n",
              "98  -2.420723    28.420082  ...   21.739131      32.536859\n",
              "\n",
              "[4 rows x 16 columns]"
            ]
          },
          "metadata": {},
          "execution_count": 247
        }
      ]
    },
    {
      "cell_type": "markdown",
      "metadata": {
        "id": "4lsftbNandpP"
      },
      "source": [
        "Take a subset of the Labor Day long weekend (the last four days of the\n",
        "dataset), and analyze the variables to see which values significantly\n",
        "departed from the overall dataset averages.\n",
        "b. Among the variables in this subset, which ones seem to stand out the\n",
        "most? Why do you think this is the case?\n",
        "The number of unique visitors and new sign ups, revenues and staff hours significantly went up as shown by the percentages above. Negative values show a decrease. Labour day being a national holiday, a lot of celebration happen around this time and people often flock entartainment venues. This causes a rise in revenues, sign ups, uniques visitors and inherently the staff have to work for more hours."
      ]
    },
    {
      "cell_type": "code",
      "metadata": {
        "id": "Flm7sDyGmN2e",
        "colab": {
          "base_uri": "https://localhost:8080/",
          "height": 227
        },
        "outputId": "8c9f05d8-91b6-4b42-8a38-f83ac128ca48"
      },
      "source": [
        "lobster_land[-4:].head()"
      ],
      "execution_count": 248,
      "outputs": [
        {
          "output_type": "execute_result",
          "data": {
            "text/html": [
              "<div>\n",
              "<style scoped>\n",
              "    .dataframe tbody tr th:only-of-type {\n",
              "        vertical-align: middle;\n",
              "    }\n",
              "\n",
              "    .dataframe tbody tr th {\n",
              "        vertical-align: top;\n",
              "    }\n",
              "\n",
              "    .dataframe thead th {\n",
              "        text-align: right;\n",
              "    }\n",
              "</style>\n",
              "<table border=\"1\" class=\"dataframe\">\n",
              "  <thead>\n",
              "    <tr style=\"text-align: right;\">\n",
              "      <th></th>\n",
              "      <th>Date</th>\n",
              "      <th>Day.of.Week</th>\n",
              "      <th>Max</th>\n",
              "      <th>Average</th>\n",
              "      <th>Min</th>\n",
              "      <th>Precip</th>\n",
              "      <th>DayPass</th>\n",
              "      <th>UniqueVisitor</th>\n",
              "      <th>AvgDuration</th>\n",
              "      <th>ParkingRev</th>\n",
              "      <th>SnackShackRev</th>\n",
              "      <th>LobsteramaRev</th>\n",
              "      <th>GoldZoneRev</th>\n",
              "      <th>MerchRev</th>\n",
              "      <th>StaffHours</th>\n",
              "      <th>Sign_Ups2022</th>\n",
              "      <th>Fireworks</th>\n",
              "      <th>Spec_Event</th>\n",
              "      <th>DailyGrossRev</th>\n",
              "      <th>day_type</th>\n",
              "    </tr>\n",
              "  </thead>\n",
              "  <tbody>\n",
              "    <tr>\n",
              "      <th>95</th>\n",
              "      <td>2021/9/3</td>\n",
              "      <td>Friday</td>\n",
              "      <td>72</td>\n",
              "      <td>63.40</td>\n",
              "      <td>54</td>\n",
              "      <td>0.00</td>\n",
              "      <td>4494</td>\n",
              "      <td>5108</td>\n",
              "      <td>289</td>\n",
              "      <td>18514.43</td>\n",
              "      <td>22563.10</td>\n",
              "      <td>40984.81</td>\n",
              "      <td>40982.92</td>\n",
              "      <td>51518.10</td>\n",
              "      <td>1123.555994</td>\n",
              "      <td>93</td>\n",
              "      <td>0</td>\n",
              "      <td>1</td>\n",
              "      <td>165643.57</td>\n",
              "      <td>Overcast</td>\n",
              "    </tr>\n",
              "    <tr>\n",
              "      <th>96</th>\n",
              "      <td>2021/9/4</td>\n",
              "      <td>Saturday</td>\n",
              "      <td>75</td>\n",
              "      <td>64.50</td>\n",
              "      <td>55</td>\n",
              "      <td>0.00</td>\n",
              "      <td>4200</td>\n",
              "      <td>5066</td>\n",
              "      <td>375</td>\n",
              "      <td>17304.08</td>\n",
              "      <td>21087.59</td>\n",
              "      <td>38308.28</td>\n",
              "      <td>38304.65</td>\n",
              "      <td>48504.75</td>\n",
              "      <td>1050.101320</td>\n",
              "      <td>77</td>\n",
              "      <td>1</td>\n",
              "      <td>2</td>\n",
              "      <td>154805.40</td>\n",
              "      <td>Partly Sunny</td>\n",
              "    </tr>\n",
              "    <tr>\n",
              "      <th>97</th>\n",
              "      <td>2021/9/5</td>\n",
              "      <td>Sunday</td>\n",
              "      <td>68</td>\n",
              "      <td>60.70</td>\n",
              "      <td>51</td>\n",
              "      <td>0.00</td>\n",
              "      <td>4424</td>\n",
              "      <td>5482</td>\n",
              "      <td>412</td>\n",
              "      <td>18226.30</td>\n",
              "      <td>22211.07</td>\n",
              "      <td>40346.49</td>\n",
              "      <td>40348.37</td>\n",
              "      <td>52718.03</td>\n",
              "      <td>1106.061363</td>\n",
              "      <td>83</td>\n",
              "      <td>0</td>\n",
              "      <td>5</td>\n",
              "      <td>163065.68</td>\n",
              "      <td>Cloudy</td>\n",
              "    </tr>\n",
              "    <tr>\n",
              "      <th>98</th>\n",
              "      <td>2021/9/6</td>\n",
              "      <td>Monday</td>\n",
              "      <td>76</td>\n",
              "      <td>66.58</td>\n",
              "      <td>60</td>\n",
              "      <td>0.19</td>\n",
              "      <td>5112</td>\n",
              "      <td>5570</td>\n",
              "      <td>471</td>\n",
              "      <td>18407.56</td>\n",
              "      <td>19829.31</td>\n",
              "      <td>55447.87</td>\n",
              "      <td>40739.78</td>\n",
              "      <td>49912.88</td>\n",
              "      <td>1033.587580</td>\n",
              "      <td>129</td>\n",
              "      <td>1</td>\n",
              "      <td>1</td>\n",
              "      <td>138250.61</td>\n",
              "      <td>Very Sunny</td>\n",
              "    </tr>\n",
              "  </tbody>\n",
              "</table>\n",
              "</div>"
            ],
            "text/plain": [
              "        Date Day.of.Week  Max  ...  Spec_Event  DailyGrossRev      day_type\n",
              "95  2021/9/3      Friday   72  ...           1      165643.57      Overcast\n",
              "96  2021/9/4    Saturday   75  ...           2      154805.40  Partly Sunny\n",
              "97  2021/9/5      Sunday   68  ...           5      163065.68        Cloudy\n",
              "98  2021/9/6      Monday   76  ...           1      138250.61    Very Sunny\n",
              "\n",
              "[4 rows x 20 columns]"
            ]
          },
          "metadata": {},
          "execution_count": 248
        }
      ]
    },
    {
      "cell_type": "markdown",
      "metadata": {
        "id": "VSAA0ruwh23p"
      },
      "source": [
        "** Collapsing factor**\n",
        "\n",
        "1. Lobster Land management saw the day_type variable, and they think that\n",
        "the 8 separate levels for this factor are not needed. Using any method,\n",
        "collapse the levels of this factor from 8 to just 3.\n",
        "2. Why can it be helpful/useful to collapse the levels of a factor variable? \n",
        "\n",
        "In a couple of sentences, explain and give an example."
      ]
    },
    {
      "cell_type": "code",
      "metadata": {
        "colab": {
          "base_uri": "https://localhost:8080/",
          "height": 309
        },
        "id": "UjWnGvtjd33u",
        "outputId": "5feed442-d4f4-4e1f-d9ba-a65da75433a1"
      },
      "source": [
        "#  Remove the variable ‘Max’ from the dataframe\n",
        "lobster_land.drop('Max', inplace=True, axis=1)\n",
        "lobster_land.head()"
      ],
      "execution_count": 249,
      "outputs": [
        {
          "output_type": "execute_result",
          "data": {
            "text/html": [
              "<div>\n",
              "<style scoped>\n",
              "    .dataframe tbody tr th:only-of-type {\n",
              "        vertical-align: middle;\n",
              "    }\n",
              "\n",
              "    .dataframe tbody tr th {\n",
              "        vertical-align: top;\n",
              "    }\n",
              "\n",
              "    .dataframe thead th {\n",
              "        text-align: right;\n",
              "    }\n",
              "</style>\n",
              "<table border=\"1\" class=\"dataframe\">\n",
              "  <thead>\n",
              "    <tr style=\"text-align: right;\">\n",
              "      <th></th>\n",
              "      <th>Date</th>\n",
              "      <th>Day.of.Week</th>\n",
              "      <th>Average</th>\n",
              "      <th>Min</th>\n",
              "      <th>Precip</th>\n",
              "      <th>DayPass</th>\n",
              "      <th>UniqueVisitor</th>\n",
              "      <th>AvgDuration</th>\n",
              "      <th>ParkingRev</th>\n",
              "      <th>SnackShackRev</th>\n",
              "      <th>LobsteramaRev</th>\n",
              "      <th>GoldZoneRev</th>\n",
              "      <th>MerchRev</th>\n",
              "      <th>StaffHours</th>\n",
              "      <th>Sign_Ups2022</th>\n",
              "      <th>Fireworks</th>\n",
              "      <th>Spec_Event</th>\n",
              "      <th>DailyGrossRev</th>\n",
              "      <th>day_type</th>\n",
              "    </tr>\n",
              "  </thead>\n",
              "  <tbody>\n",
              "    <tr>\n",
              "      <th>0</th>\n",
              "      <td>2021/5/31</td>\n",
              "      <td>Monday</td>\n",
              "      <td>53.5</td>\n",
              "      <td>51</td>\n",
              "      <td>0.90</td>\n",
              "      <td>3261</td>\n",
              "      <td>4024</td>\n",
              "      <td>328</td>\n",
              "      <td>15212.86</td>\n",
              "      <td>18532.06</td>\n",
              "      <td>29971.82</td>\n",
              "      <td>26283.73</td>\n",
              "      <td>34775.54</td>\n",
              "      <td>922.846054</td>\n",
              "      <td>32</td>\n",
              "      <td>1</td>\n",
              "      <td>1</td>\n",
              "      <td>138250.61</td>\n",
              "      <td>Partly Sunny</td>\n",
              "    </tr>\n",
              "    <tr>\n",
              "      <th>1</th>\n",
              "      <td>2021/6/1</td>\n",
              "      <td>Tuesday</td>\n",
              "      <td>63.2</td>\n",
              "      <td>51</td>\n",
              "      <td>0.02</td>\n",
              "      <td>2263</td>\n",
              "      <td>2646</td>\n",
              "      <td>376</td>\n",
              "      <td>9323.06</td>\n",
              "      <td>11359.90</td>\n",
              "      <td>18367.60</td>\n",
              "      <td>16113.23</td>\n",
              "      <td>21315.35</td>\n",
              "      <td>565.828102</td>\n",
              "      <td>19</td>\n",
              "      <td>0</td>\n",
              "      <td>1</td>\n",
              "      <td>103408.71</td>\n",
              "      <td>Very Sunny</td>\n",
              "    </tr>\n",
              "    <tr>\n",
              "      <th>2</th>\n",
              "      <td>2021/6/2</td>\n",
              "      <td>Wednesday</td>\n",
              "      <td>64.7</td>\n",
              "      <td>51</td>\n",
              "      <td>0.00</td>\n",
              "      <td>2731</td>\n",
              "      <td>2936</td>\n",
              "      <td>318</td>\n",
              "      <td>11252.19</td>\n",
              "      <td>13711.52</td>\n",
              "      <td>22178.14</td>\n",
              "      <td>19444.90</td>\n",
              "      <td>25726.56</td>\n",
              "      <td>682.831533</td>\n",
              "      <td>22</td>\n",
              "      <td>0</td>\n",
              "      <td>4</td>\n",
              "      <td>102285.09</td>\n",
              "      <td>Very Rainy</td>\n",
              "    </tr>\n",
              "    <tr>\n",
              "      <th>3</th>\n",
              "      <td>2021/6/3</td>\n",
              "      <td>Thursday</td>\n",
              "      <td>62.7</td>\n",
              "      <td>58</td>\n",
              "      <td>0.00</td>\n",
              "      <td>2879</td>\n",
              "      <td>3196</td>\n",
              "      <td>485</td>\n",
              "      <td>11861.30</td>\n",
              "      <td>14452.55</td>\n",
              "      <td>23377.00</td>\n",
              "      <td>20499.36</td>\n",
              "      <td>27120.90</td>\n",
              "      <td>719.770323</td>\n",
              "      <td>25</td>\n",
              "      <td>0</td>\n",
              "      <td>4</td>\n",
              "      <td>107836.25</td>\n",
              "      <td>Partly Cloudy</td>\n",
              "    </tr>\n",
              "    <tr>\n",
              "      <th>4</th>\n",
              "      <td>2021/6/4</td>\n",
              "      <td>Monday</td>\n",
              "      <td>80.5</td>\n",
              "      <td>64</td>\n",
              "      <td>0.00</td>\n",
              "      <td>2118</td>\n",
              "      <td>2334</td>\n",
              "      <td>240</td>\n",
              "      <td>8727.01</td>\n",
              "      <td>10630.80</td>\n",
              "      <td>17194.67</td>\n",
              "      <td>15080.27</td>\n",
              "      <td>19952.06</td>\n",
              "      <td>529.510078</td>\n",
              "      <td>18</td>\n",
              "      <td>0</td>\n",
              "      <td>3</td>\n",
              "      <td>79321.23</td>\n",
              "      <td>Very Sunny</td>\n",
              "    </tr>\n",
              "  </tbody>\n",
              "</table>\n",
              "</div>"
            ],
            "text/plain": [
              "        Date Day.of.Week  Average  ...  Spec_Event  DailyGrossRev       day_type\n",
              "0  2021/5/31      Monday     53.5  ...           1      138250.61   Partly Sunny\n",
              "1   2021/6/1     Tuesday     63.2  ...           1      103408.71     Very Sunny\n",
              "2   2021/6/2   Wednesday     64.7  ...           4      102285.09     Very Rainy\n",
              "3   2021/6/3    Thursday     62.7  ...           4      107836.25  Partly Cloudy\n",
              "4   2021/6/4      Monday     80.5  ...           3       79321.23     Very Sunny\n",
              "\n",
              "[5 rows x 19 columns]"
            ]
          },
          "metadata": {},
          "execution_count": 249
        }
      ]
    },
    {
      "cell_type": "code",
      "metadata": {
        "colab": {
          "base_uri": "https://localhost:8080/"
        },
        "id": "J5LdBqEtfey9",
        "outputId": "d81399b5-64ae-4de6-9057-039043dd2849"
      },
      "source": [
        "# Renaming a variable\n",
        "lobster_land.rename(columns={'Day.of.Week': 'Day_of_week'}, inplace=True)\n",
        "lobster_land.columns"
      ],
      "execution_count": 250,
      "outputs": [
        {
          "output_type": "execute_result",
          "data": {
            "text/plain": [
              "Index(['Date', 'Day_of_week', 'Average', 'Min', 'Precip', 'DayPass',\n",
              "       'UniqueVisitor', 'AvgDuration', 'ParkingRev', 'SnackShackRev',\n",
              "       'LobsteramaRev', 'GoldZoneRev', 'MerchRev', 'StaffHours',\n",
              "       'Sign_Ups2022', 'Fireworks', 'Spec_Event', 'DailyGrossRev', 'day_type'],\n",
              "      dtype='object')"
            ]
          },
          "metadata": {},
          "execution_count": 250
        }
      ]
    },
    {
      "cell_type": "code",
      "metadata": {
        "colab": {
          "base_uri": "https://localhost:8080/"
        },
        "id": "ATCHNdondyWx",
        "outputId": "0ab61b4d-26bb-4e3e-9627-2005da7c8762"
      },
      "source": [
        "# collapsing factor\n",
        "levels_8 =lobster_land.day_type.unique().tolist()\n",
        "levels_8\n"
      ],
      "execution_count": 251,
      "outputs": [
        {
          "output_type": "execute_result",
          "data": {
            "text/plain": [
              "['Partly Sunny',\n",
              " 'Very Sunny',\n",
              " 'Very Rainy',\n",
              " 'Partly Cloudy',\n",
              " 'Cloudy',\n",
              " 'Sunny',\n",
              " 'Overcast',\n",
              " 'Rainy']"
            ]
          },
          "metadata": {},
          "execution_count": 251
        }
      ]
    },
    {
      "cell_type": "code",
      "metadata": {
        "colab": {
          "base_uri": "https://localhost:8080/"
        },
        "id": "1pBo-prDpVyn",
        "outputId": "b0d7897a-602e-4feb-bbac-b55cc8c723db"
      },
      "source": [
        "lobster_land[\"day_type\"] = lobster_land[\"day_type\"].replace(['Very Sunny','Sunny', 'Partly Sunny' ], 'Sunny')\n",
        "lobster_land[\"day_type\"] = lobster_land[\"day_type\"].replace(['Overcast','Partly Cloudy', 'Cloudy' ], 'Cloudy')\n",
        "lobster_land[\"day_type\"] = lobster_land[\"day_type\"].replace(['Rainy','Very Rainy' ], 'Rainy')\n",
        "\n",
        "levels_3 =lobster_land.day_type.unique().tolist()\n",
        "levels_3"
      ],
      "execution_count": 252,
      "outputs": [
        {
          "output_type": "execute_result",
          "data": {
            "text/plain": [
              "['Sunny', 'Rainy', 'Cloudy']"
            ]
          },
          "metadata": {},
          "execution_count": 252
        }
      ]
    },
    {
      "cell_type": "markdown",
      "metadata": {
        "id": "Rr2T231O4jed"
      },
      "source": [
        "Collapsing the factors of a level variable directly affects the scale of information across all data generating models. This is important when fitting data to a model. with categorical data, it reduces the number of decisions the model makes when fitting the model with data. For example, if we were using this data to train a model to predict the amount or revenue generated per day, depending on all of the other variables provided, it would probably have higher performance if it only had to make decisons between 3 categories for day_type (e.g. rainy, cloudy, sunny) unlike if it had to decide between all the following categories: 'Partly Sunny',\n",
        " 'Very Sunny',\n",
        " 'Very Rainy',\n",
        " 'Partly Cloudy',\n",
        " 'Cloudy',\n",
        " 'Sunny',\n",
        " 'Overcast',\n",
        " 'Rainy'"
      ]
    },
    {
      "cell_type": "markdown",
      "metadata": {
        "id": "qgtCP_OAzL_1"
      },
      "source": [
        "# Data Visualization"
      ]
    },
    {
      "cell_type": "code",
      "metadata": {
        "id": "oQ1XSpMP0VB5"
      },
      "source": [
        "import matplotlib.pyplot as plt\n",
        "import seaborn as sns  "
      ],
      "execution_count": 253,
      "outputs": []
    },
    {
      "cell_type": "code",
      "metadata": {
        "colab": {
          "base_uri": "https://localhost:8080/",
          "height": 343
        },
        "id": "o1q7pgWk0PaI",
        "outputId": "56c38f76-2c43-4804-bf45-adc1a9ac0699"
      },
      "source": [
        "sns.boxplot(x=\"Day_of_week\", y=\"DailyGrossRev\", data=lobster_land)\n",
        "plt. xticks(rotation=90)\n",
        "plt.title(\"Box plot of days vs total revenue genrated\")\n",
        "plt.ylabel(\"Total revenue gererated\")\n",
        "plt.xlabel(\"Day of the week\")\n",
        "\n",
        "plt.show()"
      ],
      "execution_count": 254,
      "outputs": [
        {
          "output_type": "display_data",
          "data": {
            "image/png": "[encoded data removed]",
            "text/plain": [
              "<Figure size 432x288 with 1 Axes>"
            ]
          },
          "metadata": {
            "needs_background": "light"
          }
        }
      ]
    },
    {
      "cell_type": "markdown",
      "metadata": {
        "id": "KCGocC2GWoSc"
      },
      "source": [
        "As expected, the revenue goes up during weekends, since a lot of people get time to visit entertainment areas."
      ]
    },
    {
      "cell_type": "code",
      "metadata": {
        "colab": {
          "base_uri": "https://localhost:8080/",
          "height": 295
        },
        "id": "jsCqD7sjzV63",
        "outputId": "e71c8f0a-2842-45f8-d0f2-97f2c9a98302"
      },
      "source": [
        "plt.hist(lobster_land['ParkingRev'])\n",
        "plt.title('Distribution by Parking Revenue')\n",
        "plt.xlabel('ParkingRev')\n",
        "plt.ylabel(\"Frequency\")\n",
        "plt.show()"
      ],
      "execution_count": 255,
      "outputs": [
        {
          "output_type": "display_data",
          "data": {
            "image/png": "[encoded data removed]",
            "text/plain": [
              "<Figure size 432x288 with 1 Axes>"
            ]
          },
          "metadata": {
            "needs_background": "light"
          }
        }
      ]
    },
    {
      "cell_type": "code",
      "metadata": {
        "colab": {
          "base_uri": "https://localhost:8080/",
          "height": 295
        },
        "id": "bxy_HrCX1P-O",
        "outputId": "a1389d3e-9145-4929-b99e-d698bf152ca2"
      },
      "source": [
        "plt.hist(lobster_land['ParkingRev'], bins=30)\n",
        "plt.title('Distribution by Parking Revenue')\n",
        "plt.xlabel('ParkingRev')\n",
        "plt.ylabel(\"Frequency\")\n",
        "plt.show()"
      ],
      "execution_count": 256,
      "outputs": [
        {
          "output_type": "display_data",
          "data": {
            "image/png": "[encoded data removed]",
            "text/plain": [
              "<Figure size 432x288 with 1 Axes>"
            ]
          },
          "metadata": {
            "needs_background": "light"
          }
        }
      ]
    },
    {
      "cell_type": "markdown",
      "metadata": {
        "id": "U1nFx-YyW_rG"
      },
      "source": [
        "The histogram with more bins has more bars for the same range of data, gives a more detailed description of our data, by showing the frequency distribution for smaller ranges of the parking revenue values."
      ]
    },
    {
      "cell_type": "code",
      "metadata": {
        "colab": {
          "base_uri": "https://localhost:8080/",
          "height": 312
        },
        "id": "xp-AuuaO1f7S",
        "outputId": "9af6efa4-7cf2-4863-f2f0-6a90f4d9d17e"
      },
      "source": [
        "sns.histplot(data=lobster_land, x=\"ParkingRev\", hue='Spec_Event', bins=30, multiple=\"stack\" )\n",
        "plt.title('Distribution by Parking Revenue and special events')\n",
        "plt.xlabel(\"Parking revenue\")\n",
        "plt.legend(labels=[\"No special event\",\"Live comedy show\",\"Live country music show\", \"Live rock music show\", \"Poetry reading\", \"Children's themed show\"])"
      ],
      "execution_count": 257,
      "outputs": [
        {
          "output_type": "execute_result",
          "data": {
            "text/plain": [
              "<matplotlib.legend.Legend at 0x7f2cad3e98d0>"
            ]
          },
          "metadata": {},
          "execution_count": 257
        },
        {
          "output_type": "display_data",
          "data": {
            "image/png": "[encoded data removed]",
            "text/plain": [
              "<Figure size 432x288 with 1 Axes>"
            ]
          },
          "metadata": {
            "needs_background": "light"
          }
        }
      ]
    },
    {
      "cell_type": "markdown",
      "metadata": {
        "id": "G24TVxrAXyaB"
      },
      "source": [
        "Adding the special events variable as the hue to the histogram allows us to tell how the different categories in the variable affected the parking revenue collected. Children-themed and live comedy shows dominate the section to the right with higher parking revenue values. Hence, we can conclude that these particular shows generate the most revenue."
      ]
    },
    {
      "cell_type": "code",
      "metadata": {
        "colab": {
          "base_uri": "https://localhost:8080/",
          "height": 346
        },
        "id": "-IMwKgnbEJPz",
        "outputId": "8c55a509-77cc-4676-c057-b787bb9c6ea2"
      },
      "source": [
        "sns.countplot(x=\"Fireworks\", data=lobster_land)\n",
        "plt.title('Countplot of days with fireworks shows')\n",
        "plt.xticks(np.arange(2), ('No fireworks', 'Fireworks'))"
      ],
      "execution_count": 258,
      "outputs": [
        {
          "output_type": "execute_result",
          "data": {
            "text/plain": [
              "([<matplotlib.axis.XTick at 0x7f2cad66cc10>,\n",
              "  <matplotlib.axis.XTick at 0x7f2cad66ca10>],\n",
              " [Text(0, 0, 'No fireworks'), Text(0, 0, 'Fireworks')])"
            ]
          },
          "metadata": {},
          "execution_count": 258
        },
        {
          "output_type": "display_data",
          "data": {
            "image/png": "[encoded data removed]",
            "text/plain": [
              "<Figure size 432x288 with 1 Axes>"
            ]
          },
          "metadata": {
            "needs_background": "light"
          }
        }
      ]
    },
    {
      "cell_type": "markdown",
      "metadata": {
        "id": "zESX8qI6ZoFk"
      },
      "source": [
        "The count for dates without nighttime fireworks shows is longer than dates with fireworks shows. This means, fireworks shows don't happen as frequently."
      ]
    },
    {
      "cell_type": "code",
      "metadata": {
        "colab": {
          "base_uri": "https://localhost:8080/",
          "height": 346
        },
        "id": "6N69sHwdGLuS",
        "outputId": "e474a746-d78c-48b2-d741-83e2e07de36f"
      },
      "source": [
        "sns.barplot(x=\"Fireworks\", y=\"DailyGrossRev\", data=lobster_land)\n",
        "plt.title('Bar plot of days with fireworks shows vs daily gross revenue')\n",
        "plt.xticks(np.arange(2), ('No fireworks', 'Fireworks'))"
      ],
      "execution_count": 259,
      "outputs": [
        {
          "output_type": "execute_result",
          "data": {
            "text/plain": [
              "([<matplotlib.axis.XTick at 0x7f2cadcabc50>,\n",
              "  <matplotlib.axis.XTick at 0x7f2cadcab7d0>],\n",
              " [Text(0, 0, 'No fireworks'), Text(0, 0, 'Fireworks')])"
            ]
          },
          "metadata": {},
          "execution_count": 259
        },
        {
          "output_type": "display_data",
          "data": {
            "image/png": "[encoded data removed]",
            "text/plain": [
              "<Figure size 432x288 with 1 Axes>"
            ]
          },
          "metadata": {
            "needs_background": "light"
          }
        }
      ]
    },
    {
      "cell_type": "markdown",
      "metadata": {
        "id": "7lai8C0BaNh_"
      },
      "source": [
        "The bar representing the daily gross revenue for days with fireworks shows is longer than that for days without. This shows that days with fireworks shows generate a lot more revenue compared to days without, regardless of the fact that days without fireworks are significantly more than those with fireworks shows."
      ]
    },
    {
      "cell_type": "code",
      "metadata": {
        "colab": {
          "base_uri": "https://localhost:8080/",
          "height": 360
        },
        "id": "4GcUY7ppIlGE",
        "outputId": "c0d01da7-715f-42bd-afda-bcabb2ef9e32"
      },
      "source": [
        "sns.barplot(x=\"Day_of_week\", y=\"DailyGrossRev\", data=lobster_land, hue=\"Fireworks\")\n",
        "plt.xlabel(\"Day of the week\")\n",
        "plt.ylabel(\"Daily total revenue\")\n",
        "plt.title('Bar plot of days with fireworks shows vs daily gross revenue')\n",
        "plt. xticks(rotation=90)\n",
        "#plt.legend(labels=[\"Fireworks\", \"No fireworks\"])"
      ],
      "execution_count": 260,
      "outputs": [
        {
          "output_type": "execute_result",
          "data": {
            "text/plain": [
              "(array([0, 1, 2, 3, 4, 5, 6]), <a list of 7 Text major ticklabel objects>)"
            ]
          },
          "metadata": {},
          "execution_count": 260
        },
        {
          "output_type": "display_data",
          "data": {
            "image/png": "[encoded data removed]",
            "text/plain": [
              "<Figure size 432x288 with 1 Axes>"
            ]
          },
          "metadata": {
            "needs_background": "light"
          }
        }
      ]
    },
    {
      "cell_type": "markdown",
      "metadata": {
        "id": "zibz4wzpbeUC"
      },
      "source": [
        "The bars are longer during the weekend period. Also, the bars are longer for days with fireworks shows during this period. The daily gross revenue is way higher during weekends during which most of the firewroks shows happen. The value is at it's highest on friday followed by Saturday, Sunday then Monday. To confirm our previous conclusion days with fireworks generate more revenue. "
      ]
    }
  ]
}